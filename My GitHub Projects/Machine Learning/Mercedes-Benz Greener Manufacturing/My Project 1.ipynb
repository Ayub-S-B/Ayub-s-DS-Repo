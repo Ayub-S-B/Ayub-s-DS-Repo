{
 "cells": [
  {
   "cell_type": "markdown",
   "id": "bdb6bf5a-8c87-49d6-885d-465d382cdcc9",
   "metadata": {},
   "source": [
    "# Project 1: Mercedes-Benz Greener Manufacturing"
   ]
  },
  {
   "cell_type": "markdown",
   "id": "8fc6622b-d310-4658-a499-fd01e7ced400",
   "metadata": {},
   "source": [
    "## Submitted by Ayub S Bijapur"
   ]
  },
  {
   "cell_type": "code",
   "execution_count": 2,
   "id": "808fd0d0-3ae5-4ae7-9b7e-fb76ae86477f",
   "metadata": {},
   "outputs": [],
   "source": [
    "# 1.Import Libraries\n",
    "\n",
    "import pandas as pd\n",
    "import numpy as np\n",
    "import matplotlib.pyplot as plt\n",
    "%matplotlib inline\n",
    "import seaborn as sns\n",
    "import warnings\n",
    "warnings.filterwarnings('ignore')\n",
    "from sklearn.feature_selection import VarianceThreshold\n",
    "variance = VarianceThreshold(threshold=0)\n",
    "from sklearn.preprocessing import LabelEncoder\n",
    "label = LabelEncoder"
   ]
  },
  {
   "cell_type": "code",
   "execution_count": 3,
   "id": "ceaee68c-661f-4a27-8951-80082bb711e1",
   "metadata": {},
   "outputs": [
    {
     "data": {
      "text/plain": [
       "'C:\\\\Users\\\\AYUB BIJAPUR\\\\Machine Learning\\\\Project 1'"
      ]
     },
     "execution_count": 3,
     "metadata": {},
     "output_type": "execute_result"
    }
   ],
   "source": [
    "pwd()"
   ]
  },
  {
   "cell_type": "code",
   "execution_count": 5,
   "id": "6f7c74b9-dc2c-4029-9d70-c08fa201be8e",
   "metadata": {},
   "outputs": [],
   "source": [
    "import os"
   ]
  },
  {
   "cell_type": "code",
   "execution_count": 6,
   "id": "eb85be13-8cc0-473f-b6cf-603c70db8be9",
   "metadata": {},
   "outputs": [
    {
     "data": {
      "text/plain": [
       "'C:\\\\Users\\\\AYUB BIJAPUR\\\\Machine Learning\\\\Project 1'"
      ]
     },
     "execution_count": 6,
     "metadata": {},
     "output_type": "execute_result"
    }
   ],
   "source": [
    "os.getcwd()"
   ]
  },
  {
   "cell_type": "code",
   "execution_count": 7,
   "id": "768f289a-d123-4a6f-b209-7e7a0e417b50",
   "metadata": {},
   "outputs": [],
   "source": [
    "os.chdir(\"D:\\\\Simplilearn Ayub\\\\Courses 1-8\\\\(6) Machine Learning\\\\Projects\\\\Mercedes-Benz Greener Manufacturing\\\\Datasets\")"
   ]
  },
  {
   "cell_type": "code",
   "execution_count": 8,
   "id": "774b3f53-7fe4-4e30-b4c7-3ab826ed5d61",
   "metadata": {},
   "outputs": [
    {
     "data": {
      "text/plain": [
       "'D:\\\\Simplilearn Ayub\\\\Courses 1-8\\\\(6) Machine Learning\\\\Projects\\\\Mercedes-Benz Greener Manufacturing\\\\Datasets'"
      ]
     },
     "execution_count": 8,
     "metadata": {},
     "output_type": "execute_result"
    }
   ],
   "source": [
    "os.getcwd()"
   ]
  },
  {
   "cell_type": "code",
   "execution_count": 9,
   "id": "3e2263c4-de44-4458-a9d8-24daab86bc6e",
   "metadata": {},
   "outputs": [],
   "source": [
    "# 2.Load Data\n",
    "\n",
    "mb_trn = pd.read_csv('Train.csv')\n",
    "mb_tst = pd.read_csv('Test.csv')"
   ]
  },
  {
   "cell_type": "code",
   "execution_count": 10,
   "id": "51719a38-aad7-4796-8a1d-d1dffb1de033",
   "metadata": {},
   "outputs": [
    {
     "name": "stdout",
     "output_type": "stream",
     "text": [
      "        ID       y  X0 X1  X2 X3 X4  X5 X6 X8  ...  X375  X376  X377  X378  \\\n",
      "0        0  130.81   k  v  at  a  d   u  j  o  ...     0     0     1     0   \n",
      "1        6   88.53   k  t  av  e  d   y  l  o  ...     1     0     0     0   \n",
      "2        7   76.26  az  w   n  c  d   x  j  x  ...     0     0     0     0   \n",
      "3        9   80.62  az  t   n  f  d   x  l  e  ...     0     0     0     0   \n",
      "4       13   78.02  az  v   n  f  d   h  d  n  ...     0     0     0     0   \n",
      "...    ...     ...  .. ..  .. .. ..  .. .. ..  ...   ...   ...   ...   ...   \n",
      "4204  8405  107.39  ak  s  as  c  d  aa  d  q  ...     1     0     0     0   \n",
      "4205  8406  108.77   j  o   t  d  d  aa  h  h  ...     0     1     0     0   \n",
      "4206  8412  109.22  ak  v   r  a  d  aa  g  e  ...     0     0     1     0   \n",
      "4207  8415   87.48  al  r   e  f  d  aa  l  u  ...     0     0     0     0   \n",
      "4208  8417  110.85   z  r  ae  c  d  aa  g  w  ...     1     0     0     0   \n",
      "\n",
      "      X379  X380  X382  X383  X384  X385  \n",
      "0        0     0     0     0     0     0  \n",
      "1        0     0     0     0     0     0  \n",
      "2        0     0     1     0     0     0  \n",
      "3        0     0     0     0     0     0  \n",
      "4        0     0     0     0     0     0  \n",
      "...    ...   ...   ...   ...   ...   ...  \n",
      "4204     0     0     0     0     0     0  \n",
      "4205     0     0     0     0     0     0  \n",
      "4206     0     0     0     0     0     0  \n",
      "4207     0     0     0     0     0     0  \n",
      "4208     0     0     0     0     0     0  \n",
      "\n",
      "[4209 rows x 378 columns]\n"
     ]
    }
   ],
   "source": [
    "print(mb_trn)"
   ]
  },
  {
   "cell_type": "code",
   "execution_count": 11,
   "id": "c21942fd-6945-411e-9822-3554bf02bd4d",
   "metadata": {},
   "outputs": [
    {
     "name": "stdout",
     "output_type": "stream",
     "text": [
      "        ID  X0  X1  X2 X3 X4  X5 X6 X8  X10  ...  X375  X376  X377  X378  \\\n",
      "0        1  az   v   n  f  d   t  a  w    0  ...     0     0     0     1   \n",
      "1        2   t   b  ai  a  d   b  g  y    0  ...     0     0     1     0   \n",
      "2        3  az   v  as  f  d   a  j  j    0  ...     0     0     0     1   \n",
      "3        4  az   l   n  f  d   z  l  n    0  ...     0     0     0     1   \n",
      "4        5   w   s  as  c  d   y  i  m    0  ...     1     0     0     0   \n",
      "...    ...  ..  ..  .. .. ..  .. .. ..  ...  ...   ...   ...   ...   ...   \n",
      "4204  8410  aj   h  as  f  d  aa  j  e    0  ...     0     0     0     0   \n",
      "4205  8411   t  aa  ai  d  d  aa  j  y    0  ...     0     1     0     0   \n",
      "4206  8413   y   v  as  f  d  aa  d  w    0  ...     0     0     0     0   \n",
      "4207  8414  ak   v  as  a  d  aa  c  q    0  ...     0     0     1     0   \n",
      "4208  8416   t  aa  ai  c  d  aa  g  r    0  ...     1     0     0     0   \n",
      "\n",
      "      X379  X380  X382  X383  X384  X385  \n",
      "0        0     0     0     0     0     0  \n",
      "1        0     0     0     0     0     0  \n",
      "2        0     0     0     0     0     0  \n",
      "3        0     0     0     0     0     0  \n",
      "4        0     0     0     0     0     0  \n",
      "...    ...   ...   ...   ...   ...   ...  \n",
      "4204     0     0     0     0     0     0  \n",
      "4205     0     0     0     0     0     0  \n",
      "4206     0     0     0     0     0     0  \n",
      "4207     0     0     0     0     0     0  \n",
      "4208     0     0     0     0     0     0  \n",
      "\n",
      "[4209 rows x 377 columns]\n"
     ]
    }
   ],
   "source": [
    "print(mb_tst)"
   ]
  },
  {
   "cell_type": "code",
   "execution_count": 13,
   "id": "763a7c42-28df-4272-b16a-74043ae4523f",
   "metadata": {},
   "outputs": [],
   "source": [
    " ## ANALYSIS ON TRAIN DATA:"
   ]
  },
  {
   "cell_type": "code",
   "execution_count": 12,
   "id": "dc51d2f8-3d7f-4eb3-bc9d-c48a308abefd",
   "metadata": {},
   "outputs": [
    {
     "name": "stdout",
     "output_type": "stream",
     "text": [
      "      X0 X1  X2 X3 X4  X5 X6 X8  X10  X11  ...  X375  X376  X377  X378  X379  \\\n",
      "0      k  v  at  a  d   u  j  o    0    0  ...     0     0     1     0     0   \n",
      "1      k  t  av  e  d   y  l  o    0    0  ...     1     0     0     0     0   \n",
      "2     az  w   n  c  d   x  j  x    0    0  ...     0     0     0     0     0   \n",
      "3     az  t   n  f  d   x  l  e    0    0  ...     0     0     0     0     0   \n",
      "4     az  v   n  f  d   h  d  n    0    0  ...     0     0     0     0     0   \n",
      "...   .. ..  .. .. ..  .. .. ..  ...  ...  ...   ...   ...   ...   ...   ...   \n",
      "4204  ak  s  as  c  d  aa  d  q    0    0  ...     1     0     0     0     0   \n",
      "4205   j  o   t  d  d  aa  h  h    0    0  ...     0     1     0     0     0   \n",
      "4206  ak  v   r  a  d  aa  g  e    0    0  ...     0     0     1     0     0   \n",
      "4207  al  r   e  f  d  aa  l  u    0    0  ...     0     0     0     0     0   \n",
      "4208   z  r  ae  c  d  aa  g  w    0    0  ...     1     0     0     0     0   \n",
      "\n",
      "      X380  X382  X383  X384  X385  \n",
      "0        0     0     0     0     0  \n",
      "1        0     0     0     0     0  \n",
      "2        0     1     0     0     0  \n",
      "3        0     0     0     0     0  \n",
      "4        0     0     0     0     0  \n",
      "...    ...   ...   ...   ...   ...  \n",
      "4204     0     0     0     0     0  \n",
      "4205     0     0     0     0     0  \n",
      "4206     0     0     0     0     0  \n",
      "4207     0     0     0     0     0  \n",
      "4208     0     0     0     0     0  \n",
      "\n",
      "[4209 rows x 376 columns]\n"
     ]
    }
   ],
   "source": [
    "# The target of train data is \"y\". Also the ID column is unnecessary so we remove both the columns from train data.\n",
    "\n",
    "mb_new_trn = mb_trn.drop([\"y\",\"ID\"], axis = 1)\n",
    "print(mb_new_trn)"
   ]
  },
  {
   "cell_type": "code",
   "execution_count": 19,
   "id": "f92856d8-e9f0-4567-bb9b-b5a49001a4a4",
   "metadata": {},
   "outputs": [
    {
     "name": "stdout",
     "output_type": "stream",
     "text": [
      "      X0  X1  X2 X3 X4  X5 X6 X8  X10  X11  ...  X375  X376  X377  X378  X379  \\\n",
      "0     az   v   n  f  d   t  a  w    0    0  ...     0     0     0     1     0   \n",
      "1      t   b  ai  a  d   b  g  y    0    0  ...     0     0     1     0     0   \n",
      "2     az   v  as  f  d   a  j  j    0    0  ...     0     0     0     1     0   \n",
      "3     az   l   n  f  d   z  l  n    0    0  ...     0     0     0     1     0   \n",
      "4      w   s  as  c  d   y  i  m    0    0  ...     1     0     0     0     0   \n",
      "...   ..  ..  .. .. ..  .. .. ..  ...  ...  ...   ...   ...   ...   ...   ...   \n",
      "4204  aj   h  as  f  d  aa  j  e    0    0  ...     0     0     0     0     0   \n",
      "4205   t  aa  ai  d  d  aa  j  y    0    0  ...     0     1     0     0     0   \n",
      "4206   y   v  as  f  d  aa  d  w    0    0  ...     0     0     0     0     0   \n",
      "4207  ak   v  as  a  d  aa  c  q    0    0  ...     0     0     1     0     0   \n",
      "4208   t  aa  ai  c  d  aa  g  r    0    0  ...     1     0     0     0     0   \n",
      "\n",
      "      X380  X382  X383  X384  X385  \n",
      "0        0     0     0     0     0  \n",
      "1        0     0     0     0     0  \n",
      "2        0     0     0     0     0  \n",
      "3        0     0     0     0     0  \n",
      "4        0     0     0     0     0  \n",
      "...    ...   ...   ...   ...   ...  \n",
      "4204     0     0     0     0     0  \n",
      "4205     0     0     0     0     0  \n",
      "4206     0     0     0     0     0  \n",
      "4207     0     0     0     0     0  \n",
      "4208     0     0     0     0     0  \n",
      "\n",
      "[4209 rows x 376 columns]\n"
     ]
    }
   ],
   "source": [
    "mb_new_tst = mb_tst.drop([\"ID\"], axis = 1)\n",
    "print(mb_new_tst)"
   ]
  },
  {
   "cell_type": "markdown",
   "id": "a6edc308-50f5-4abd-a237-c0a7e70a8300",
   "metadata": {},
   "source": [
    "##  Task 1: If for any column(s), the variance is equal to zero, then you need to remove those variable(s)"
   ]
  },
  {
   "cell_type": "code",
   "execution_count": 14,
   "id": "b137cd39-0685-48db-8250-3f11d7337750",
   "metadata": {},
   "outputs": [],
   "source": [
    "# Performing var on train data:"
   ]
  },
  {
   "cell_type": "code",
   "execution_count": 15,
   "id": "736e590c-9f03-4cdb-8f75-876a8d7cc6b3",
   "metadata": {},
   "outputs": [
    {
     "data": {
      "text/plain": [
       "X330    0.000000\n",
       "X297    0.000000\n",
       "X268    0.000000\n",
       "X290    0.000000\n",
       "X235    0.000000\n",
       "X347    0.000000\n",
       "X107    0.000000\n",
       "X233    0.000000\n",
       "X289    0.000000\n",
       "X93     0.000000\n",
       "X11     0.000000\n",
       "X293    0.000000\n",
       "X257    0.000238\n",
       "X207    0.000238\n",
       "X280    0.000238\n",
       "X288    0.000238\n",
       "X39     0.000238\n",
       "X33     0.000238\n",
       "X190    0.000238\n",
       "X270    0.000238\n",
       "dtype: float64"
      ]
     },
     "execution_count": 15,
     "metadata": {},
     "output_type": "execute_result"
    }
   ],
   "source": [
    "new_train = mb_new_trn.var().sort_values().head(20)\n",
    "new_train"
   ]
  },
  {
   "cell_type": "code",
   "execution_count": 16,
   "id": "1dc9b235-0f41-464b-bdf8-b4d493a23830",
   "metadata": {},
   "outputs": [
    {
     "data": {
      "text/plain": [
       "array([[0, 1, 0, ..., 0, 0, 0],\n",
       "       [0, 0, 0, ..., 0, 0, 0],\n",
       "       [0, 0, 0, ..., 0, 0, 0],\n",
       "       ...,\n",
       "       [1, 1, 0, ..., 0, 0, 0],\n",
       "       [0, 0, 1, ..., 0, 0, 0],\n",
       "       [0, 0, 0, ..., 0, 0, 0]], dtype=int64)"
      ]
     },
     "execution_count": 16,
     "metadata": {},
     "output_type": "execute_result"
    }
   ],
   "source": [
    "train_data_without_zero_var = variance.fit_transform(mb_new_trn.iloc[:,10:])\n",
    "train_data_without_zero_var"
   ]
  },
  {
   "cell_type": "code",
   "execution_count": 17,
   "id": "90a02749-bbda-4597-8087-d301aaeb7b0d",
   "metadata": {},
   "outputs": [
    {
     "data": {
      "text/plain": [
       "(4209, 355)"
      ]
     },
     "execution_count": 17,
     "metadata": {},
     "output_type": "execute_result"
    }
   ],
   "source": [
    "train_data_without_zero_var.shape\n",
    "## (Reduction in shape indiactes that the data with zero var discarded and hence reduction in feature occured)"
   ]
  },
  {
   "cell_type": "code",
   "execution_count": 20,
   "id": "dd10f05a-2932-489e-8fd3-b971475257bb",
   "metadata": {},
   "outputs": [
    {
     "data": {
      "text/plain": [
       "X295    0.000000\n",
       "X369    0.000000\n",
       "X296    0.000000\n",
       "X257    0.000000\n",
       "X258    0.000000\n",
       "X278    0.000238\n",
       "X233    0.000238\n",
       "X280    0.000238\n",
       "X290    0.000238\n",
       "X293    0.000238\n",
       "X330    0.000238\n",
       "X235    0.000238\n",
       "X288    0.000238\n",
       "X210    0.000238\n",
       "X297    0.000238\n",
       "X105    0.000238\n",
       "X124    0.000238\n",
       "X259    0.000238\n",
       "X372    0.000238\n",
       "X190    0.000238\n",
       "dtype: float64"
      ]
     },
     "execution_count": 20,
     "metadata": {},
     "output_type": "execute_result"
    }
   ],
   "source": [
    "new_test = mb_new_tst.var().sort_values().head(20)\n",
    "new_test"
   ]
  },
  {
   "cell_type": "code",
   "execution_count": 21,
   "id": "c5a4eaa3-92d7-41b0-9d0f-21595b781b19",
   "metadata": {},
   "outputs": [
    {
     "data": {
      "text/plain": [
       "array([[0, 0, 0, ..., 0, 0, 0],\n",
       "       [0, 0, 0, ..., 0, 0, 0],\n",
       "       [0, 0, 1, ..., 0, 0, 0],\n",
       "       ...,\n",
       "       [0, 0, 1, ..., 0, 0, 0],\n",
       "       [0, 1, 1, ..., 0, 0, 0],\n",
       "       [0, 0, 0, ..., 0, 0, 0]], dtype=int64)"
      ]
     },
     "execution_count": 21,
     "metadata": {},
     "output_type": "execute_result"
    }
   ],
   "source": [
    "test_data_without_zero_var = variance.fit_transform(mb_new_tst.iloc[:,10:])\n",
    "test_data_without_zero_var"
   ]
  },
  {
   "cell_type": "code",
   "execution_count": 22,
   "id": "c4997c89-c619-4d96-a2a7-801c914b6131",
   "metadata": {},
   "outputs": [
    {
     "data": {
      "text/plain": [
       "(4209, 361)"
      ]
     },
     "execution_count": 22,
     "metadata": {},
     "output_type": "execute_result"
    }
   ],
   "source": [
    "test_data_without_zero_var.shape\n",
    "## (Reduction in shape indiactes that the data with zero var discarded and hence reduction in feature occured)"
   ]
  },
  {
   "cell_type": "markdown",
   "id": "68a450ca-0f19-4226-9d3f-64d69885f681",
   "metadata": {},
   "source": [
    "## Task 2: Check Null and Unique Values for test and train dataset"
   ]
  },
  {
   "cell_type": "code",
   "execution_count": 32,
   "id": "dac02e67-01ab-4514-ad71-42bb01af65ee",
   "metadata": {},
   "outputs": [
    {
     "data": {
      "text/plain": [
       "False"
      ]
     },
     "execution_count": 32,
     "metadata": {},
     "output_type": "execute_result"
    }
   ],
   "source": [
    "# Checking Null values\n",
    "train_data.isnull().sum().any()"
   ]
  },
  {
   "cell_type": "code",
   "execution_count": 33,
   "id": "df216bb0-6690-41e4-9d9a-80611c4f7c89",
   "metadata": {},
   "outputs": [
    {
     "data": {
      "text/plain": [
       "False"
      ]
     },
     "execution_count": 33,
     "metadata": {},
     "output_type": "execute_result"
    }
   ],
   "source": [
    "# Checking Null values\n",
    "test_data.isnull().sum().any()"
   ]
  },
  {
   "cell_type": "code",
   "execution_count": 34,
   "id": "4f50fde2-83e0-430b-9252-592cc1507d5e",
   "metadata": {},
   "outputs": [
    {
     "data": {
      "text/plain": [
       "True"
      ]
     },
     "execution_count": 34,
     "metadata": {},
     "output_type": "execute_result"
    }
   ],
   "source": [
    "# Checking Unique values\n",
    "train_data.nunique().sum().any()"
   ]
  },
  {
   "cell_type": "code",
   "execution_count": 36,
   "id": "f69b2bfd-40b1-4843-8cdd-11794e5048cc",
   "metadata": {},
   "outputs": [
    {
     "data": {
      "text/plain": [
       "7661"
      ]
     },
     "execution_count": 36,
     "metadata": {},
     "output_type": "execute_result"
    }
   ],
   "source": [
    "train_data.nunique().sum()"
   ]
  },
  {
   "cell_type": "code",
   "execution_count": 38,
   "id": "55655eda-b447-4bff-b752-d5995e563e05",
   "metadata": {},
   "outputs": [
    {
     "data": {
      "text/plain": [
       "True"
      ]
     },
     "execution_count": 38,
     "metadata": {},
     "output_type": "execute_result"
    }
   ],
   "source": [
    "# Checking Unique values\n",
    "test_data.nunique().sum().any()"
   ]
  },
  {
   "cell_type": "code",
   "execution_count": 39,
   "id": "5dfdad2c-43d8-4f9e-a14d-cc14de89fba6",
   "metadata": {},
   "outputs": [
    {
     "data": {
      "text/plain": [
       "5136"
      ]
     },
     "execution_count": 39,
     "metadata": {},
     "output_type": "execute_result"
    }
   ],
   "source": [
    "test_data.nunique().sum()"
   ]
  },
  {
   "cell_type": "markdown",
   "id": "20f1fb16-452c-4b3a-b1eb-a54c505457f5",
   "metadata": {},
   "source": [
    "## Task 3: Apply Label Encoder"
   ]
  },
  {
   "cell_type": "code",
   "execution_count": 23,
   "id": "dcd273df-bb81-4615-b3cc-bd91d5d09912",
   "metadata": {},
   "outputs": [],
   "source": [
    " from sklearn.preprocessing import MinMaxScaler, StandardScaler, OrdinalEncoder"
   ]
  },
  {
   "cell_type": "code",
   "execution_count": 31,
   "id": "c76b6a71-5bde-479e-acb2-60c355c48bad",
   "metadata": {},
   "outputs": [
    {
     "name": "stdout",
     "output_type": "stream",
     "text": [
      "   X0 X1  X2 X3 X4 X5 X6 X8\n",
      "0   k  v  at  a  d  u  j  o\n",
      "1   k  t  av  e  d  y  l  o\n",
      "2  az  w   n  c  d  x  j  x\n",
      "3  az  t   n  f  d  x  l  e\n",
      "4  az  v   n  f  d  h  d  n\n"
     ]
    }
   ],
   "source": [
    "labeled_data_trn = mb_new_trn.iloc[:,0:8]\n",
    "print(labeled_data_trn.head())"
   ]
  },
  {
   "cell_type": "code",
   "execution_count": 33,
   "id": "9fc1c2a8-7ed9-4e71-b0f0-8e86177f3994",
   "metadata": {},
   "outputs": [
    {
     "name": "stdout",
     "output_type": "stream",
     "text": [
      "      X0  X1  X2  X3  X4  X5  X6  X8\n",
      "0     32  23  17   0   3  24   9  14\n",
      "1     32  21  19   4   3  28  11  14\n",
      "2     20  24  34   2   3  27   9  23\n",
      "3     20  21  34   5   3  27  11   4\n",
      "4     20  23  34   5   3  12   3  13\n",
      "...   ..  ..  ..  ..  ..  ..  ..  ..\n",
      "4204   8  20  16   2   3   0   3  16\n",
      "4205  31  16  40   3   3   0   7   7\n",
      "4206   8  23  38   0   3   0   6   4\n",
      "4207   9  19  25   5   3   0  11  20\n",
      "4208  46  19   3   2   3   0   6  22\n",
      "\n",
      "[4209 rows x 8 columns]\n"
     ]
    }
   ],
   "source": [
    "ler = labeled_data_trn.apply(label().fit_transform)\n",
    "print(ler)"
   ]
  },
  {
   "cell_type": "code",
   "execution_count": 34,
   "id": "98858f38-dcfe-406c-b7ac-6c08ad8599c8",
   "metadata": {},
   "outputs": [
    {
     "data": {
      "text/plain": [
       "X0    188.741938\n",
       "X1     72.777974\n",
       "X2    118.808135\n",
       "X3      3.027295\n",
       "X4      0.005461\n",
       "X5     68.076236\n",
       "X6      8.508730\n",
       "X8     49.531868\n",
       "dtype: float64"
      ]
     },
     "execution_count": 34,
     "metadata": {},
     "output_type": "execute_result"
    }
   ],
   "source": [
    "ler.var()"
   ]
  },
  {
   "cell_type": "code",
   "execution_count": 27,
   "id": "09b4ab18-9b70-4fde-8731-adb7bb069f22",
   "metadata": {},
   "outputs": [
    {
     "name": "stdout",
     "output_type": "stream",
     "text": [
      "   0    1    2    3    4    5    6    7    8    9    ...  345  346  347  348  \\\n",
      "0    0    1    0    0    0    0    1    0    0    1  ...    0    0    1    0   \n",
      "1    0    0    0    0    0    0    1    0    0    0  ...    1    0    0    0   \n",
      "2    0    0    0    0    0    1    0    0    0    0  ...    0    0    0    0   \n",
      "3    0    0    0    0    0    0    0    0    0    0  ...    0    0    0    0   \n",
      "4    0    0    0    0    0    0    0    0    0    0  ...    0    0    0    0   \n",
      "\n",
      "   349  350  351  352  353  354  \n",
      "0    0    0    0    0    0    0  \n",
      "1    0    0    0    0    0    0  \n",
      "2    0    0    1    0    0    0  \n",
      "3    0    0    0    0    0    0  \n",
      "4    0    0    0    0    0    0  \n",
      "\n",
      "[5 rows x 355 columns]\n"
     ]
    }
   ],
   "source": [
    "train_data = pd.DataFrame(train_data_without_zero_var)\n",
    "print(train_data.head())"
   ]
  },
  {
   "cell_type": "code",
   "execution_count": 35,
   "id": "c0f20da7-e40b-4881-9242-723890579c22",
   "metadata": {},
   "outputs": [
    {
     "name": "stdout",
     "output_type": "stream",
     "text": [
      "   X0  X1  X2  X3  X4  X5  X6  X8  0  1  ...  345  346  347  348  349  350  \\\n",
      "0  32  23  17   0   3  24   9  14  0  1  ...    0    0    1    0    0    0   \n",
      "1  32  21  19   4   3  28  11  14  0  0  ...    1    0    0    0    0    0   \n",
      "2  20  24  34   2   3  27   9  23  0  0  ...    0    0    0    0    0    0   \n",
      "3  20  21  34   5   3  27  11   4  0  0  ...    0    0    0    0    0    0   \n",
      "4  20  23  34   5   3  12   3  13  0  0  ...    0    0    0    0    0    0   \n",
      "\n",
      "   351  352  353  354  \n",
      "0    0    0    0    0  \n",
      "1    0    0    0    0  \n",
      "2    1    0    0    0  \n",
      "3    0    0    0    0  \n",
      "4    0    0    0    0  \n",
      "\n",
      "[5 rows x 363 columns]\n"
     ]
    }
   ],
   "source": [
    "final_train = pd.concat([ler,train_data],axis=1)\n",
    "print(final_train.head())"
   ]
  },
  {
   "cell_type": "code",
   "execution_count": 36,
   "id": "4a9a359e-e3da-4951-ad0d-23a97e9ee66e",
   "metadata": {},
   "outputs": [
    {
     "name": "stdout",
     "output_type": "stream",
     "text": [
      "   X0 X1  X2 X3 X4 X5 X6 X8\n",
      "0  az  v   n  f  d  t  a  w\n",
      "1   t  b  ai  a  d  b  g  y\n",
      "2  az  v  as  f  d  a  j  j\n",
      "3  az  l   n  f  d  z  l  n\n",
      "4   w  s  as  c  d  y  i  m\n"
     ]
    }
   ],
   "source": [
    "labeled_data_tst = mb_new_tst.iloc[:,0:8]\n",
    "print(labeled_data_tst.head())"
   ]
  },
  {
   "cell_type": "code",
   "execution_count": 37,
   "id": "e5414bb0-4a01-4f3d-9d56-8eb650ff5432",
   "metadata": {},
   "outputs": [
    {
     "name": "stdout",
     "output_type": "stream",
     "text": [
      "      X0  X1  X2  X3  X4  X5  X6  X8\n",
      "0     21  23  34   5   3  26   0  22\n",
      "1     42   3   8   0   3   9   6  24\n",
      "2     21  23  17   5   3   0   9   9\n",
      "3     21  13  34   5   3  31  11  13\n",
      "4     45  20  17   2   3  30   8  12\n",
      "...   ..  ..  ..  ..  ..  ..  ..  ..\n",
      "4204   6   9  17   5   3   1   9   4\n",
      "4205  42   1   8   3   3   1   9  24\n",
      "4206  47  23  17   5   3   1   3  22\n",
      "4207   7  23  17   0   3   1   2  16\n",
      "4208  42   1   8   2   3   1   6  17\n",
      "\n",
      "[4209 rows x 8 columns]\n"
     ]
    }
   ],
   "source": [
    "les = labeled_data_tst.apply(label().fit_transform)\n",
    "print(les)"
   ]
  },
  {
   "cell_type": "code",
   "execution_count": 38,
   "id": "942b91f9-e876-4b44-952a-5a5ad3de0b78",
   "metadata": {},
   "outputs": [
    {
     "data": {
      "text/plain": [
       "X0    231.684235\n",
       "X1     73.008823\n",
       "X2    104.598050\n",
       "X3      3.157646\n",
       "X4      0.006171\n",
       "X5     75.119478\n",
       "X6      8.225523\n",
       "X8     49.229574\n",
       "dtype: float64"
      ]
     },
     "execution_count": 38,
     "metadata": {},
     "output_type": "execute_result"
    }
   ],
   "source": [
    "les.var()"
   ]
  },
  {
   "cell_type": "code",
   "execution_count": 39,
   "id": "2b74a32f-3a21-4682-9447-16f7bd5276da",
   "metadata": {},
   "outputs": [
    {
     "name": "stdout",
     "output_type": "stream",
     "text": [
      "   0    1    2    3    4    5    6    7    8    9    ...  351  352  353  354  \\\n",
      "0    0    0    0    0    0    0    0    0    0    0  ...    0    0    0    1   \n",
      "1    0    0    0    0    0    0    0    1    0    0  ...    0    0    1    0   \n",
      "2    0    0    1    0    0    0    0    0    0    0  ...    0    0    0    1   \n",
      "3    0    0    0    0    0    0    0    0    0    0  ...    0    0    0    1   \n",
      "4    0    0    1    0    0    0    0    0    0    0  ...    1    0    0    0   \n",
      "\n",
      "   355  356  357  358  359  360  \n",
      "0    0    0    0    0    0    0  \n",
      "1    0    0    0    0    0    0  \n",
      "2    0    0    0    0    0    0  \n",
      "3    0    0    0    0    0    0  \n",
      "4    0    0    0    0    0    0  \n",
      "\n",
      "[5 rows x 361 columns]\n"
     ]
    }
   ],
   "source": [
    "test_data = pd.DataFrame(test_data_without_zero_var)\n",
    "print(test_data.head())"
   ]
  },
  {
   "cell_type": "code",
   "execution_count": 40,
   "id": "05e4ce33-3eb2-4c20-b0d6-7336bf8bd1c5",
   "metadata": {},
   "outputs": [
    {
     "name": "stdout",
     "output_type": "stream",
     "text": [
      "   X0  X1  X2  X3  X4  X5  X6  X8  0  1  ...  351  352  353  354  355  356  \\\n",
      "0  21  23  34   5   3  26   0  22  0  0  ...    0    0    0    1    0    0   \n",
      "1  42   3   8   0   3   9   6  24  0  0  ...    0    0    1    0    0    0   \n",
      "2  21  23  17   5   3   0   9   9  0  0  ...    0    0    0    1    0    0   \n",
      "3  21  13  34   5   3  31  11  13  0  0  ...    0    0    0    1    0    0   \n",
      "4  45  20  17   2   3  30   8  12  0  0  ...    1    0    0    0    0    0   \n",
      "\n",
      "   357  358  359  360  \n",
      "0    0    0    0    0  \n",
      "1    0    0    0    0  \n",
      "2    0    0    0    0  \n",
      "3    0    0    0    0  \n",
      "4    0    0    0    0  \n",
      "\n",
      "[5 rows x 369 columns]\n"
     ]
    }
   ],
   "source": [
    "final_test = pd.concat([les,test_data],axis=1)\n",
    "print(final_test.head())"
   ]
  },
  {
   "cell_type": "markdown",
   "id": "a85b7e0a-4213-4418-a1b4-4b983fdad329",
   "metadata": {},
   "source": [
    "## Task 4: Perform dimensionality reduction."
   ]
  },
  {
   "cell_type": "code",
   "execution_count": 30,
   "id": "b16979d9-551b-4b90-aa8b-d1b635337551",
   "metadata": {},
   "outputs": [],
   "source": [
    "from sklearn.model_selection import train_test_split\n",
    "train_target = mb_trn.y"
   ]
  },
  {
   "cell_type": "code",
   "execution_count": 51,
   "id": "5247bf2f-b88a-4918-b96f-42bfe75a2692",
   "metadata": {},
   "outputs": [
    {
     "name": "stdout",
     "output_type": "stream",
     "text": [
      "(2525, 363)\n",
      "(1684, 363)\n",
      "(2525,)\n",
      "(1684,)\n"
     ]
    }
   ],
   "source": [
    "X_train, X_test, y_train, y_test = train_test_split(final_train, train_target,train_size = 0.6, random_state = 3)\n",
    "print(X_train.shape)\n",
    "print(X_test.shape)\n",
    "print(y_train.shape)\n",
    "print(y_test.shape)"
   ]
  },
  {
   "cell_type": "code",
   "execution_count": 54,
   "id": "9c5a22d1-9cb1-49f2-9271-a70da3a12401",
   "metadata": {},
   "outputs": [],
   "source": [
    "from sklearn.decomposition import PCA\n",
    "pca = PCA(n_components=0.95)"
   ]
  },
  {
   "cell_type": "code",
   "execution_count": 43,
   "id": "0acaaf80-9b12-4570-ae51-47a7e61807b4",
   "metadata": {},
   "outputs": [],
   "source": [
    "X_train = pca.fit_transform(X_train)\n",
    "X_test = pca.fit_transform(X_test)"
   ]
  },
  {
   "cell_type": "code",
   "execution_count": 44,
   "id": "c79ea344-5218-4f86-8eed-43e4cfbf2f02",
   "metadata": {},
   "outputs": [
    {
     "name": "stdout",
     "output_type": "stream",
     "text": [
      "(2525, 6)\n",
      "(1684, 6)\n"
     ]
    }
   ],
   "source": [
    "print(X_train.shape)\n",
    "print(X_test.shape)"
   ]
  },
  {
   "cell_type": "code",
   "execution_count": 52,
   "id": "e1974fde-b23d-4116-8c1b-b6fa1d7e0aef",
   "metadata": {},
   "outputs": [
    {
     "name": "stdout",
     "output_type": "stream",
     "text": [
      "(2525, 369)\n",
      "(1684, 369)\n",
      "(2525,)\n",
      "(1684,)\n"
     ]
    }
   ],
   "source": [
    "# For test data\n",
    "\n",
    "X_train, X_test, y_train, y_test = train_test_split(final_test, train_target,train_size = 0.6, random_state = 3)\n",
    "print(X_train.shape)\n",
    "print(X_test.shape)\n",
    "print(y_train.shape)\n",
    "print(y_test.shape)"
   ]
  },
  {
   "cell_type": "markdown",
   "id": "c1ecd11e-412e-4dfb-a33d-284141f16417",
   "metadata": {},
   "source": [
    "## Task 5:Predict your test_df values using XGBoost."
   ]
  },
  {
   "cell_type": "code",
   "execution_count": 67,
   "id": "d4dfca33-ff78-4538-97df-c9aba2029a6d",
   "metadata": {},
   "outputs": [],
   "source": [
    " from sklearn import svm\n",
    "from sklearn.metrics import r2_score, mean_squared_error\n",
    "from xgboost import XGBRegressor\n",
    "xgbr = XGBRegressor(random_state=42)"
   ]
  },
  {
   "cell_type": "code",
   "execution_count": 68,
   "id": "a0a1228d-6af7-4aa7-a417-b83894d85eeb",
   "metadata": {},
   "outputs": [],
   "source": [
    "model = xgbr.fit(X_train, y_train)"
   ]
  },
  {
   "cell_type": "code",
   "execution_count": 69,
   "id": "82251023-bb26-4d23-b202-cf0dcc6d3861",
   "metadata": {},
   "outputs": [
    {
     "data": {
      "text/plain": [
       "array([ 97.46753,  96.96668, 101.3332 , ..., 105.21336,  98.45503,\n",
       "       110.08113], dtype=float32)"
      ]
     },
     "execution_count": 69,
     "metadata": {},
     "output_type": "execute_result"
    }
   ],
   "source": [
    "ypred_test = xgbr.predict(X_test)\n",
    "ypred_test"
   ]
  },
  {
   "cell_type": "code",
   "execution_count": 70,
   "id": "6c3c69a9-d13d-4ee9-a58e-c7243e7da75b",
   "metadata": {},
   "outputs": [
    {
     "name": "stdout",
     "output_type": "stream",
     "text": [
      "-0.2326796019223032\n"
     ]
    }
   ],
   "source": [
    " print(r2_score(y_test,ypred_test))"
   ]
  },
  {
   "cell_type": "code",
   "execution_count": 71,
   "id": "9bb2ff1f-c3b6-4528-a454-a3be4e1d0401",
   "metadata": {},
   "outputs": [
    {
     "name": "stdout",
     "output_type": "stream",
     "text": [
      "202.97277772796755\n"
     ]
    }
   ],
   "source": [
    "MSE = mean_squared_error(y_test,ypred_test)\n",
    "print(MSE)"
   ]
  },
  {
   "cell_type": "code",
   "execution_count": 72,
   "id": "e9792b86-ce14-4c73-b0fd-3d3b61222b3d",
   "metadata": {},
   "outputs": [
    {
     "name": "stdout",
     "output_type": "stream",
     "text": [
      "101.48638886398378\n"
     ]
    }
   ],
   "source": [
    "RMSE = MSE*(1/2.0)\n",
    "print (RMSE)"
   ]
  },
  {
   "cell_type": "code",
   "execution_count": null,
   "id": "48499313-c877-45c3-ba69-13a0885188b0",
   "metadata": {},
   "outputs": [],
   "source": []
  },
  {
   "cell_type": "code",
   "execution_count": null,
   "id": "41f9ce62-9534-4561-9da0-bdf35bf1aaee",
   "metadata": {},
   "outputs": [],
   "source": []
  },
  {
   "cell_type": "code",
   "execution_count": null,
   "id": "c4dfe61a-01e0-40b9-bf55-d7ef688ec6e2",
   "metadata": {},
   "outputs": [],
   "source": []
  },
  {
   "cell_type": "code",
   "execution_count": null,
   "id": "a2a7607b-a8b2-4ad6-a2d5-7d50defcde93",
   "metadata": {},
   "outputs": [],
   "source": []
  }
 ],
 "metadata": {
  "kernelspec": {
   "display_name": "Python 3 (ipykernel)",
   "language": "python",
   "name": "python3"
  },
  "language_info": {
   "codemirror_mode": {
    "name": "ipython",
    "version": 3
   },
   "file_extension": ".py",
   "mimetype": "text/x-python",
   "name": "python",
   "nbconvert_exporter": "python",
   "pygments_lexer": "ipython3",
   "version": "3.9.12"
  }
 },
 "nbformat": 4,
 "nbformat_minor": 5
}
